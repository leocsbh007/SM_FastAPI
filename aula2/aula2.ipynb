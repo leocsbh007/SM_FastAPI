{
 "cells": [
  {
   "cell_type": "markdown",
   "metadata": {},
   "source": [
    "# Aula 2: Fundamentos do HTTP e Operações CRUD"
   ]
  },
  {
   "cell_type": "markdown",
   "metadata": {},
   "source": [
    "## O que são verbos HTTP (GET, POST, PUT, DELETE, PATCH)."
   ]
  },
  {
   "cell_type": "markdown",
   "metadata": {},
   "source": [
    "Os verbos HTTP definem as ações que podem ser realizadas sobre os recursos em uma API. Os principais são:\n",
    "\n",
    "- GET: Recupera informações.\n",
    "\n",
    "- POST: Envia dados para criar um novo recurso.\n",
    "\n",
    "- PUT: Atualiza um recurso existente (substituição completa).\n",
    "\n",
    "- PATCH: Atualiza parcialmente um recurso.\n",
    "\n",
    "- DELETE: Remove um recurso.\n"
   ]
  },
  {
   "cell_type": "markdown",
   "metadata": {},
   "source": [
    "## Estrutura de uma requisição e resposta HTTP."
   ]
  },
  {
   "cell_type": "markdown",
   "metadata": {},
   "source": [
    "#### Requisição HTTP: \n",
    "\n",
    "- URL: Define o recurso (https://localhost:8000/nome_do_endpoint).\n",
    "\n",
    "- Headers: Incluem metadados (ex.: Authorization, Content-Type).\n",
    "\n",
    "- Body: Contém dados (usado principalmente em POST, PUT, PATCH).\n",
    "\n"
   ]
  },
  {
   "cell_type": "markdown",
   "metadata": {},
   "source": [
    "#### Resposta HTTP:\n",
    "\n",
    "- Status Code: Informa o resultado (ex.: 200 OK, 404 Not Found).\n",
    "\n",
    "- Headers: Metadados da resposta.\n",
    "\n",
    "- Body: Os dados retornados (em JSON, por exemplo)."
   ]
  },
  {
   "cell_type": "code",
   "execution_count": 4,
   "metadata": {},
   "outputs": [
    {
     "name": "stdout",
     "output_type": "stream",
     "text": [
      "200\n",
      "{'Date': 'Thu, 12 Dec 2024 23:32:12 GMT', 'Content-Type': 'application/json; charset=utf-8', 'Transfer-Encoding': 'chunked', 'Connection': 'keep-alive', 'access-control-allow-credentials': 'true', 'access-control-allow-headers': 'Accept,Authorization,Content-Type,X-CSRF-Token,Token,User-Key,X-Token', 'access-control-allow-methods': 'OPTIONS,HEAD,GET', 'access-control-allow-origin': '*', 'Cache-Control': 'max-age=604800, public, stale-while-revalidate=259200, stale-if-error=259200', 'pragma': 'cache', 'strict-transport-security': 'max-age=63072000; includeSubDomains', 'x-content-type-options': 'nosniff', 'x-dns-prefetch-control': 'off', 'x-download-options': 'noopen', 'x-frame-options': 'DENY', 'x-xss-protection': '1; mode=block', 'x-cache-status': 'HIT', 'CF-Cache-Status': 'HIT', 'Age': '107664', 'Last-Modified': 'Wed, 11 Dec 2024 17:37:48 GMT', 'Report-To': '{\"endpoints\":[{\"url\":\"https:\\\\/\\\\/a.nel.cloudflare.com\\\\/report\\\\/v4?s=rGEXTHX0cYLC9c4Ian1LmuvW93zvMRWD67bLcGWQwgItlp8D3Wq7T9Er6qhaRC4UrnAlTFApL3Ij4EYkMVSyuvWFqqbY8qnmylzHpsFAUL7nmmYdnrULYPfKOGp4ICRMXHAnaIe%2FCg%3D%3D\"}],\"group\":\"cf-nel\",\"max_age\":604800}', 'NEL': '{\"success_fraction\":0,\"report_to\":\"cf-nel\",\"max_age\":604800}', 'Vary': 'Accept-Encoding', 'Server': 'cloudflare', 'CF-RAY': '8f11832c9c2764ae-GIG', 'Content-Encoding': 'gzip', 'alt-svc': 'h3=\":443\"; ma=86400', 'server-timing': 'cfL4;desc=\"?proto=TCP&rtt=36385&min_rtt=35036&rtt_var=14102&sent=4&recv=6&lost=0&retrans=0&sent_bytes=2857&recv_bytes=784&delivery_rate=82886&cwnd=230&unsent_bytes=0&cid=27aa591ba170f340&ts=202&x=0\"'}\n",
      "{\"cep\":\"05424020\",\"address_type\":\"Rua\",\"address_name\":\"Professor Carlos Reis\",\"address\":\"Rua Professor Carlos Reis\",\"state\":\"SP\",\"district\":\"Pinheiros\",\"lat\":\"-23.57022\",\"lng\":\"-46.69684\",\"city\":\"São Paulo\",\"city_ibge\":\"3550308\",\"ddd\":\"11\"}\n"
     ]
    }
   ],
   "source": [
    "import requests\n",
    "\n",
    "cep = '05424020'\n",
    "url = f\"https://cep.awesomeapi.com.br/json/{cep}\"\n",
    "\n",
    "resposta = requests.get(url)\n",
    "\n",
    "print(resposta.status_code)\n",
    "print(resposta.headers)\n",
    "print(resposta.text)"
   ]
  },
  {
   "cell_type": "code",
   "execution_count": null,
   "metadata": {},
   "outputs": [],
   "source": [
    "import requests\n",
    "\n",
    "url = \"http://localhost:8000/seu_endpoint\"\n",
    "\n",
    "headers = {'Content-Type': 'application/json'} #\"Authorization\": f\"Bearer {auth_token}\"\n",
    "\n",
    "payload = {\n",
    "    'task': \"Estudar FastAPI\"\n",
    "}\n",
    "\n",
    "resposta = requests.post(url, headers=headers, json=payload)\n",
    "\n",
    "print(resposta.status_code)\n",
    "print(resposta.headers)\n",
    "print(resposta.text)"
   ]
  },
  {
   "cell_type": "markdown",
   "metadata": {},
   "source": [
    "## Implementação de rotas em FastAPI.\n"
   ]
  },
  {
   "cell_type": "markdown",
   "metadata": {},
   "source": [
    "FastAPI facilita a criação de rotas associadas a verbos HTTP.\n",
    "\n",
    "```python\n",
    "from fastapi import FastAPI\n",
    "\n",
    "app = FastAPI()\n",
    "\n",
    "@app.get(\"/tasks\")\n",
    "async def get_tasks():\n",
    "    return {\"tasks\": [\"Estudar\", \"Trabalhar\"]}\n",
    "\n",
    "@app.post(\"/tasks\")\n",
    "async def create_task(task: str):\n",
    "    return {\"message\": f\"Tarefa '{task}' criada com sucesso!\"}\n",
    "\n",
    "@app.put(\"/tasks/{task_id}\")\n",
    "async def update_task(task_id: int, task: str):\n",
    "    return {\"message\": f\"Tarefa {task_id} atualizada para '{task}'\"}\n",
    "\n",
    "@app.delete(\"/tasks/{task_id}\")\n",
    "async def delete_task(task_id: int):\n",
    "    return {\"message\": f\"Tarefa {task_id} removida com sucesso\"}\n",
    "```\n",
    "\n"
   ]
  },
  {
   "cell_type": "markdown",
   "metadata": {},
   "source": [
    "#### Desafio de 30 min:\n",
    "\n",
    "Faça com que as rotas realizem o crud das tarefas em um banco de dados \"mockado\" (lista)."
   ]
  },
  {
   "cell_type": "markdown",
   "metadata": {},
   "source": [
    "## Definição de modelos com Pydantic.\n"
   ]
  },
  {
   "cell_type": "markdown",
   "metadata": {},
   "source": [
    "Pydantic é uma biblioteca Python que utiliza anotações de tipo para definir modelos de dados ricos em funcionalidades. Esses modelos não apenas definem a estrutura dos dados, mas também validam, serializam e desserializam os dados de forma automática. Isso torna o código mais robusto, legível e menos propenso a erros.\n",
    "\n",
    "__Por que usar o Pydantic?__\n",
    "\n",
    "- Validação de Dados: Define regras claras sobre os tipos de dados esperados, garantindo que os dados recebidos estejam no formato correto.\n",
    "\n",
    "- Serialização e Desserialização: Converte objetos Python em formatos como JSON e vice-versa, facilitando a comunicação com APIs e a persistência de dados.\n",
    "\n",
    "- Documentação Automática: Gera automaticamente documentação interativa para seus modelos, tornando mais fácil entender a estrutura dos dados.\n",
    "\n",
    "- Integração com FastAPI: Trabalha perfeitamente com o FastAPI, permitindo a criação de APIs robustas e bem definidas.\n",
    "\n",
    "```python\n",
    "from pydantic import BaseModel\n",
    "\n",
    "class Task(BaseModel):\n",
    "    id: int\n",
    "    legenda: str\n",
    "    is_completed: bool = False\n",
    "```\n",
    "\n",
    "Uso do modelo:\n",
    "\n",
    "```python\n",
    "@app.post(\"/tasks\")\n",
    "async def create_task(task: Task):\n",
    "    return {\"message\": f\"Tarefa '{task.legenda}' criada\"}\n",
    "```\n",
    "\n"
   ]
  },
  {
   "cell_type": "markdown",
   "metadata": {},
   "source": [
    "## Criação de endpoints para operações CRUD.\n"
   ]
  },
  {
   "cell_type": "markdown",
   "metadata": {},
   "source": [
    "Com base no Desafio de 30 minutos que fizemos anteriormente, vamos agora implementar o pydantic nele!\n",
    "\n"
   ]
  }
 ],
 "metadata": {
  "kernelspec": {
   "display_name": "Python 3",
   "language": "python",
   "name": "python3"
  },
  "language_info": {
   "codemirror_mode": {
    "name": "ipython",
    "version": 3
   },
   "file_extension": ".py",
   "mimetype": "text/x-python",
   "name": "python",
   "nbconvert_exporter": "python",
   "pygments_lexer": "ipython3",
   "version": "3.12.8"
  }
 },
 "nbformat": 4,
 "nbformat_minor": 2
}
