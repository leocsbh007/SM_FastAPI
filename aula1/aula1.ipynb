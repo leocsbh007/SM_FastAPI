{
 "cells": [
  {
   "cell_type": "markdown",
   "metadata": {},
   "source": [
    "# Aula 1: Introdução ao FastAPI e Conceitos de APIs"
   ]
  },
  {
   "cell_type": "markdown",
   "metadata": {},
   "source": [
    "#### Objetivo Geral:\n",
    "Entender os conceitos básicos de APIs, HTTP, REST, RESTful e iniciar o uso do FastAPI com a criação de uma API simples."
   ]
  },
  {
   "cell_type": "markdown",
   "metadata": {},
   "source": [
    "## O que são APIs e sua importância no desenvolvimento de sistemas."
   ]
  },
  {
   "cell_type": "markdown",
   "metadata": {},
   "source": [
    "#### Definição:\n",
    "\n",
    "API (Application Programming Interface) é um conjunto de regras que permite que diferentes sistemas se comuniquem.\n",
    "\n"
   ]
  },
  {
   "cell_type": "markdown",
   "metadata": {},
   "source": [
    "![api-exemplo1](garcom.webp)\n"
   ]
  },
  {
   "cell_type": "markdown",
   "metadata": {},
   "source": [
    "#### Tipos de API:"
   ]
  },
  {
   "cell_type": "markdown",
   "metadata": {},
   "source": [
    "- Web APIs (REST, SOAP, GraphQL).\n",
    "\n",
    "- REST (Representational State Transfer): arquitetura para comunicação de dados.\n",
    "\n",
    "- RESTful: APIs que seguem os princípios REST, como verbos HTTP, sem estado e URLs legíveis."
   ]
  },
  {
   "cell_type": "markdown",
   "metadata": {},
   "source": [
    "#### O que é HTTP?\n",
    "\n"
   ]
  },
  {
   "cell_type": "markdown",
   "metadata": {},
   "source": [
    "É o principal protocolo responsável por comunicação na WEB"
   ]
  },
  {
   "cell_type": "markdown",
   "metadata": {},
   "source": [
    "Estrutura básica de uma requisição HTTP:\n",
    "- Método: GET, POST, etc.\n",
    "- URL: Endereço da API.\n",
    "- Cabeçalhos: Informações adicionais.\n",
    "- Corpo: Dados enviados.\n"
   ]
  },
  {
   "cell_type": "markdown",
   "metadata": {},
   "source": [
    "#### Verbos HTTP"
   ]
  },
  {
   "cell_type": "markdown",
   "metadata": {},
   "source": [
    "Indicam a ação que queremos realizar em nosso recurso\n",
    "\n",
    "- PUT - CREATE\n",
    "\n",
    "- GET - READ\n",
    "\n",
    "- POST - UPDATE\n",
    "\n",
    "- DELETE - DELETE (sempre especificamos um item. Não pode ser usado para excluir todos os registros.)"
   ]
  },
  {
   "cell_type": "markdown",
   "metadata": {},
   "source": [
    "**Exemplo do GOOLGE**"
   ]
  },
  {
   "cell_type": "markdown",
   "metadata": {},
   "source": [
    "api/v1/categorias?order=desc&limit=20"
   ]
  },
  {
   "cell_type": "markdown",
   "metadata": {},
   "source": [
    "Tudo o que está após o símbolo de interrogação são os argumentos/parâmetros que estou mandando para o servidor, o & separa estes parâmetros.\n",
    "\n",
    "Esse maneira de passar esses argumentos é chamada de **query string.**"
   ]
  },
  {
   "cell_type": "markdown",
   "metadata": {},
   "source": [
    "#### Responstas à uma requisição HTTP"
   ]
  },
  {
   "cell_type": "markdown",
   "metadata": {},
   "source": [
    "O usuário enviou uma requisição, o servidor retorna com uma resposta. Nesta resposta, são enviadas os dados, e alguns detalhes adicionais como o codigo de resposta(se deu certo ou não), a data de ultima atualização e etc. "
   ]
  },
  {
   "cell_type": "markdown",
   "metadata": {},
   "source": [
    "**SOBRE OS CÓDIGOS DE ERRO:**\n",
    "\n",
    "- 1XX → Erros de Informação\n",
    "- 2XX → Sucesso\n",
    "- 3XX → Redirecionamento\n",
    "- 4XX → Erro no lado do cliente\n",
    "- 5XX → Erro no lado do servidor"
   ]
  },
  {
   "cell_type": "markdown",
   "metadata": {},
   "source": [
    "#### Diferença entre API REST e RESTful:"
   ]
  },
  {
   "cell_type": "markdown",
   "metadata": {},
   "source": [
    "\"REST\" significa _Representational State Transfer_, em português, Transferência de Estado Representacional. Refere-se a uma abstração da arquitetura da Web. Basicamento, o REST consiste em princípios e/ou regras que, quando seguidas, permitem a criação de um projeto com interfaces bem definidas, permitindo, que aplicações se comuniquem."
   ]
  },
  {
   "cell_type": "markdown",
   "metadata": {},
   "source": [
    "Pode-se afirmar que API REST e a RESTful possuem propósitos distintos..."
   ]
  },
  {
   "cell_type": "markdown",
   "metadata": {},
   "source": [
    "*É como se fosse a diferença entre Moral (conceito) e Leis (o uso)*"
   ]
  },
  {
   "cell_type": "markdown",
   "metadata": {},
   "source": [
    "- REST: um estilo arquitetural.\n",
    "- RESTful: implementação que segue todos os princípios REST."
   ]
  },
  {
   "cell_type": "markdown",
   "metadata": {},
   "source": [
    "#### Recursos"
   ]
  },
  {
   "cell_type": "markdown",
   "metadata": {},
   "source": [
    "Imagine que na nossa aplicação tenhamos um model (métodos padronizado de acesso a uma tabela em um banco de dados) ‘categorias’ e outro ‘produtos’. Cada um deles seria um recurso. São eles que utilizaremos para fazer operações CRUD. \n",
    "\n",
    "Acionamos esses recursos através de URI específicas e essas URI são os ENDPOINTS."
   ]
  },
  {
   "cell_type": "markdown",
   "metadata": {},
   "source": [
    "Um endpoint pode representar tanto uma coleção de registros, como um item individual. Por exemplo, vocẽ pode obter os dados de uma categoria em específico ou de todas as categorias. "
   ]
  },
  {
   "cell_type": "markdown",
   "metadata": {},
   "source": [
    "**Reflexão: TUDO USA API**"
   ]
  },
  {
   "cell_type": "markdown",
   "metadata": {},
   "source": [
    "Para mais detalhes sobre APIs: https://www.linkedin.com/pulse/api-rest-e-restful-você-sabe-qual-diferença-entre-elas-gomes-rocha/?originalSubdomain=pt"
   ]
  },
  {
   "cell_type": "markdown",
   "metadata": {},
   "source": [
    "#### JSON"
   ]
  },
  {
   "cell_type": "markdown",
   "metadata": {},
   "source": [
    "**JSON** (JavaScript Object Notation) é um formato de texto leve e de fácil leitura para trocar dados. Ele é amplamente utilizado em aplicações web para transmitir informações entre um servidor e um cliente. O JSON é baseado em pares chave-valor e utiliza uma sintaxe similar ao JavaScript, o que o torna fácil de entender e processar por diversas linguagens de programação."
   ]
  },
  {
   "cell_type": "markdown",
   "metadata": {},
   "source": [
    "Em python, JSON é muito semelhante a um _dicionário_."
   ]
  },
  {
   "cell_type": "markdown",
   "metadata": {},
   "source": [
    "**Por que usar JSON?**\n",
    "\n",
    "- Simplicidade: Sua sintaxe é clara e concisa, facilitando a criação e leitura de dados.\n",
    "\n",
    "- Levesa: Os arquivos JSON são geralmente menores do que outros formatos de dados, o que os torna mais eficientes para transmissão pela rede.\n",
    "\n",
    "- Independência de linguagem: O JSON é independente de linguagem, podendo ser utilizado por qualquer linguagem de programação que tenha suporte a parsing de texto.\n",
    "\n",
    "- Suporte nativo em diversas linguagens: A maioria das linguagens de programação modernas possui bibliotecas nativas ou módulos para trabalhar com JSON.\n",
    "\n",
    "- Hierárquico: Permite a criação de estruturas de dados complexas e aninhadas.\n"
   ]
  },
  {
   "cell_type": "markdown",
   "metadata": {},
   "source": [
    "```json\n",
    "{\n",
    "    \"nome\": \"João\",\n",
    "    \"idade\": 30,\n",
    "    \"cidade\": \"São Paulo\",\n",
    "    \"hobbies\": [\"leitura\", \"corrida\", \"programação\"],\n",
    "    \"endereco\": {\n",
    "        \"rua\": \"Avenida Brasil\",\n",
    "        \"numero\": 123\n",
    "    }\n",
    "}\n",
    "```"
   ]
  },
  {
   "cell_type": "markdown",
   "metadata": {},
   "source": [
    "## Introdução ao FastAPI: características e vantagens."
   ]
  },
  {
   "cell_type": "markdown",
   "metadata": {},
   "source": [
    "*FastAPI* é um framework Python moderno, de alta performance, projetado para criar *APIs* (Interfaces de Programação de Aplicativos) de forma rápida e fácil. Ele é ideal para construir aplicações web robustas e escaláveis, especialmente para serviços que exigem respostas rápidas e eficientes.\n",
    "\n"
   ]
  },
  {
   "cell_type": "markdown",
   "metadata": {},
   "source": [
    "#### Por que usar FastAPI?\n",
    "\n"
   ]
  },
  {
   "cell_type": "markdown",
   "metadata": {},
   "source": [
    "- Alta performance: O FastAPI é um dos frameworks Python mais rápidos disponíveis, rivalizando com frameworks de linguagens como Node.js e Go.\n",
    "\n",
    "- Facilidade de uso: Sua sintaxe é intuitiva e baseada em padrões Python, o que facilita o aprendizado e o desenvolvimento.\n",
    "\n",
    "- Tipagem: Utiliza tipagem estática para garantir a qualidade do código e evitar erros comuns.\n",
    "\n",
    "- Asyncio: Suporta programação assíncrona, permitindo lidar com várias requisições simultaneamente de forma eficiente.\n",
    "\n",
    "- Documentação automática: Gera automaticamente documentação interativa da API usando o Swagger UI, facilitando o desenvolvimento e o consumo da API.\n",
    "\n",
    "- Validação de dados: Realiza a validação automática dos dados de entrada, garantindo a integridade dos dados.\n",
    "\n",
    "- Rápido: Alta performance, rivalizando com Node.js e Go."
   ]
  },
  {
   "cell_type": "markdown",
   "metadata": {},
   "source": [
    "#### Programação Assíncrona"
   ]
  },
  {
   "cell_type": "markdown",
   "metadata": {},
   "source": [
    "**Programação assíncrona** é um paradigma de programação que permite que um programa execute múltiplas tarefas de forma concorrente, sem que uma tarefa precise esperar a outra terminar para começar. Isso é especialmente útil em operações que podem levar tempo, como I/O (entrada/saída), chamadas de rede ou cálculos intensivos."
   ]
  },
  {
   "cell_type": "markdown",
   "metadata": {},
   "source": [
    "O uso de funções assincronas no seu código vai depender de alguns fatores."
   ]
  },
  {
   "cell_type": "markdown",
   "metadata": {},
   "source": [
    "- Versão do SQLAlchemy: A versão 2.0 do SQLAlchemy introduziu suporte nativo para assincronia, permitindo que você execute consultas SQL de forma assíncrona sem a necessidade de wrappers adicionais.\n",
    "\n",
    "- Configuração do banco de dados: A configuração do seu banco de dados e do driver utilizado também influencia. Alguns drivers oferecem suporte nativo para assincronia, enquanto outros podem exigir configurações adicionais.\n",
    "\n",
    "- Nível de otimização: Mesmo com o suporte nativo de assíncronia, em alguns casos, usar funções assíncronas pode proporcionar um ganho de performance adicional, especialmente em cenários com alto volume de requisições."
   ]
  },
  {
   "cell_type": "markdown",
   "metadata": {},
   "source": [
    "#### Por que usar funções assíncronas?\n",
    "\n"
   ]
  },
  {
   "cell_type": "markdown",
   "metadata": {},
   "source": [
    "- Melhor desempenho: Ao utilizar funções assíncronas, você permite que o FastAPI continue processando outras requisições enquanto uma consulta ao banco de dados está sendo executada, evitando bloqueios e melhorando a escalabilidade da sua aplicação.\n",
    "\n",
    "- Integração com outras partes assíncronas da aplicação: Se você está utilizando outras partes da sua aplicação que são assíncronas, como chamadas a APIs externas, manter a consistência utilizando funções assíncronas para as consultas ao banco de dados pode simplificar a gestão do código."
   ]
  },
  {
   "cell_type": "markdown",
   "metadata": {},
   "source": [
    "#### Quando não é necessário usar funções assíncronas?\n",
    "\n"
   ]
  },
  {
   "cell_type": "markdown",
   "metadata": {},
   "source": [
    "- Consultas simples e rápidas: Para consultas simples que retornam poucos dados, a diferença de performance entre uma consulta síncrona e assíncrona pode ser mínima.\n",
    "\n",
    "- Prioridade em simplicidade de código: Se a complexidade da sua aplicação não justifica o uso de funções assíncronas, você pode optar por uma abordagem mais simples e utilizar consultas síncronas."
   ]
  },
  {
   "cell_type": "markdown",
   "metadata": {},
   "source": [
    "## Configuração de ambiente virtual"
   ]
  },
  {
   "cell_type": "markdown",
   "metadata": {},
   "source": [
    "Primeiro tenha certeza que o terminal está aberto EXATAMENTE na pasta do seu projeto.\n",
    "\n",
    "Caso não esteja você pode usar os comando abaixo para navegar nas pastas:\n",
    "\n",
    "Comando para entrar em uma pasta:\n",
    "```bash\n",
    "cd .\n",
    "```\n",
    "\n",
    "Comando para retroceder uma pasta:\n",
    "```bash\n",
    "cd ..\n",
    "```"
   ]
  },
  {
   "cell_type": "markdown",
   "metadata": {},
   "source": [
    "### __Windows__"
   ]
  },
  {
   "cell_type": "markdown",
   "metadata": {},
   "source": [
    "#### __Para criar o ambiente virtual usaremos o *VENV* que é o ambiente virtual padrão que já faz parte do python:__\n",
    "```bash\n",
    "python -m venv .venv\n",
    "```\n",
    "_Obs.: **.venv** é o nome da pasta que criaremos o nosso ambiente virtural, a comunidade python usa o nome '.venv' por padrão, mas vc pode escolher qualquer nome._\n",
    "\n",
    "\n",
    "#### __Agora iremos ativar o ambiente virtual:__\n",
    "```bash\n",
    ".venv/Scripts/activate\n",
    "```\n",
    "\n",
    "### __Caso o passo anterior tenha funcionado, será necessário inserir o comando abaixo e tentar novamente ativar o ambiente:__\n",
    "```bash\n",
    "Set-ExecutionPolicy -Scope Process -ExecutionPolicy Bypass\n",
    "```\n",
    "\n",
    "### __Para desativar o ambiente:__ \n",
    "```bash\n",
    "deactivate\n",
    "```\n"
   ]
  },
  {
   "cell_type": "markdown",
   "metadata": {},
   "source": [
    "### __Lunux | MacOS__"
   ]
  },
  {
   "cell_type": "markdown",
   "metadata": {},
   "source": [
    "#### __Instalando o _venv_:__\n",
    "```bash\n",
    "sudo apt install python3.12-venv\n",
    "```\n",
    "\n",
    "_Obs: No trexo python3.12 você coloca a versão do seu python._\n",
    "\n",
    "_Obs 1: Talvez seja necessário colocar a senha do usuário da máquina._\n",
    "\n",
    "```bash\n",
    "pip install python3-venv\n",
    "```\n",
    "OU\n",
    "```bash\n",
    "sudo apt install python3-venv\n",
    "```\n",
    "\n",
    "\n",
    "### __Para criar o ambiente virtual usaremos o *VENV* que é o ambiente virtual padrão que já faz parte do python__\n",
    "\n",
    "```bash\n",
    "python3 -m venv  .venv\n",
    "```\n",
    "\n",
    "\n",
    "_Obs: **.venv** é o nome da pasta que criaremos o nosso ambiente virtural, a comunidade python usa o nome '.venv' por padrão, mas vc pode escolher qualquer nome._\n",
    "\n",
    "#### __Agora iremos ativar o ambiente virtual:__\n",
    "```bash\n",
    "source .venv/bin/activate\n",
    "```\n",
    "\n",
    "### __Para desativar o ambiente:__ \n",
    "```bash\n",
    "deactivate\n",
    "```"
   ]
  },
  {
   "cell_type": "markdown",
   "metadata": {},
   "source": [
    "## Instalação do FastAPI e Uvicorn."
   ]
  },
  {
   "cell_type": "markdown",
   "metadata": {},
   "source": [
    "```bash\n",
    "pip install fastapi uvicorn\n",
    "\n",
    "```"
   ]
  },
  {
   "cell_type": "markdown",
   "metadata": {},
   "source": [
    "#### Uvicorn: O Motor das APIs FastAPI\n"
   ]
  },
  {
   "cell_type": "markdown",
   "metadata": {},
   "source": [
    "**Uvicorn** é um servidor *ASGI* (Asynchronous Server Gateway Interface) para Python, ou seja, ele é responsável por receber as requisições HTTP e encaminhá-las para sua aplicação. Em outras palavras, o **Uvicorn** é o motor que faz sua aplicação FastAPI funcionar."
   ]
  },
  {
   "cell_type": "markdown",
   "metadata": {},
   "source": [
    "#### Por que usar Uvicorn com FastAPI?\n",
    "\n"
   ]
  },
  {
   "cell_type": "markdown",
   "metadata": {},
   "source": [
    "- Desempenho: O Uvicorn é conhecido por sua alta performance, o que o torna ideal para aplicações que exigem respostas rápidas e eficientes.\n",
    "- Facilidade de uso: A integração entre Uvicorn e FastAPI é seamless, tornando a configuração e o uso muito simples.\n",
    "- Asyncio: Ambos, Uvicorn e FastAPI, são baseados no Asyncio, permitindo uma programação assíncrona eficiente, ideal para lidar com um grande número de requisições simultâneas.\n",
    "- ASGI: O padrão ASGI permite que o Uvicorn seja utilizado com outros frameworks Python além do FastAPI, oferecendo maior flexibilidade."
   ]
  },
  {
   "cell_type": "markdown",
   "metadata": {},
   "source": [
    "#### Primeiros passos"
   ]
  },
  {
   "cell_type": "markdown",
   "metadata": {},
   "source": [
    "Vamos criar uma pasta **_projeto_** e nessa pasta o arquivo **_main.py_**"
   ]
  },
  {
   "cell_type": "markdown",
   "metadata": {},
   "source": [
    "```python\n",
    "from fastapi import FastAPI\n",
    "\n",
    "app = FastAPI()\n",
    "\n",
    "@app.get(\"/\")\n",
    "def read_root():\n",
    "    return {\"message\": \"Hello, World!\"}\n",
    "\n",
    "@app.get(\"/hello/{name}\")\n",
    "def say_hello(name: str):\n",
    "    return {\"message\": f\"Hello, {name}!\"}\n",
    "```\n"
   ]
  },
  {
   "cell_type": "markdown",
   "metadata": {},
   "source": [
    "Agora rodamos nossa \"aplicação\" com o comando abaixo no terminal"
   ]
  },
  {
   "cell_type": "markdown",
   "metadata": {},
   "source": [
    "```bash\n",
    "uvicorn main:app --reload\n",
    "```"
   ]
  },
  {
   "cell_type": "markdown",
   "metadata": {},
   "source": [
    "## Documentação"
   ]
  },
  {
   "cell_type": "markdown",
   "metadata": {},
   "source": [
    "Uma das grandes vantagens do FastAPI é a sua capacidade de gerar automaticamente documentação interativa para suas APIs. Essa documentação, baseada no padrão OpenAPI, facilita muito a vida dos desenvolvedores, tanto na criação quanto no consumo das APIs.\n",
    "\n"
   ]
  },
  {
   "cell_type": "markdown",
   "metadata": {},
   "source": [
    "O FastAPI utiliza informações como os tipos de dados das suas rotas, os parâmetros esperados e os modelos de dados para criar uma documentação detalhada e interativa. Essa documentação pode ser acessada através de interfaces como Swagger UI e ReDoc.\n",
    "\n"
   ]
  },
  {
   "cell_type": "markdown",
   "metadata": {},
   "source": [
    "```python\n",
    "from fastapi import FastAPI\n",
    "\n",
    "app = FastAPI()\n",
    "\n",
    "@app.get(\"/items/{item_id}\")\n",
    "def read_item(item_id: int):\n",
    "    return {\"item_id\": item_id}\n",
    "```"
   ]
  },
  {
   "cell_type": "markdown",
   "metadata": {},
   "source": [
    "**Documentação gerada:**\n",
    "\n"
   ]
  },
  {
   "cell_type": "markdown",
   "metadata": {},
   "source": [
    "Ao executar este código e acessar a rota /docs, você verá uma interface interativa como a do Swagger UI\n"
   ]
  },
  {
   "cell_type": "markdown",
   "metadata": {},
   "source": [
    "## Atividade prática: Criar e rodar uma API básica que retorna valores calculados como uma calculadora.\n",
    "Rotas:\n",
    "- /somar\n",
    "- /dividir\n",
    "- /multiplicar\n",
    "- /subtrair\n",
    "\n",
    "\n"
   ]
  }
 ],
 "metadata": {
  "language_info": {
   "name": "python"
  }
 },
 "nbformat": 4,
 "nbformat_minor": 2
}